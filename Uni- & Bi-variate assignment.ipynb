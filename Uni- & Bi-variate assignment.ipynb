{
 "cells": [
  {
   "cell_type": "code",
   "execution_count": 1,
   "id": "4b47fc9f-c24e-4efa-b8ee-7827c9b0857d",
   "metadata": {},
   "outputs": [],
   "source": [
    "import pandas as pd\n",
    "import seaborn as sns\n",
    "import numpy as np"
   ]
  },
  {
   "cell_type": "code",
   "execution_count": 2,
   "id": "de23af18-5581-4e25-a659-5611e8821dac",
   "metadata": {},
   "outputs": [
    {
     "data": {
      "text/html": [
       "<div>\n",
       "<style scoped>\n",
       "    .dataframe tbody tr th:only-of-type {\n",
       "        vertical-align: middle;\n",
       "    }\n",
       "\n",
       "    .dataframe tbody tr th {\n",
       "        vertical-align: top;\n",
       "    }\n",
       "\n",
       "    .dataframe thead th {\n",
       "        text-align: right;\n",
       "    }\n",
       "</style>\n",
       "<table border=\"1\" class=\"dataframe\">\n",
       "  <thead>\n",
       "    <tr style=\"text-align: right;\">\n",
       "      <th></th>\n",
       "      <th>gender</th>\n",
       "      <th>ssc_p</th>\n",
       "      <th>ssc_b</th>\n",
       "      <th>hsc_p</th>\n",
       "      <th>hsc_b</th>\n",
       "      <th>hsc_s</th>\n",
       "      <th>degree_p</th>\n",
       "      <th>degree_t</th>\n",
       "      <th>workex</th>\n",
       "      <th>etest_p</th>\n",
       "      <th>specialisation</th>\n",
       "      <th>mba_p</th>\n",
       "      <th>status</th>\n",
       "      <th>salary</th>\n",
       "    </tr>\n",
       "  </thead>\n",
       "  <tbody>\n",
       "    <tr>\n",
       "      <th>0</th>\n",
       "      <td>M</td>\n",
       "      <td>67.00</td>\n",
       "      <td>Others</td>\n",
       "      <td>91.00</td>\n",
       "      <td>Others</td>\n",
       "      <td>Commerce</td>\n",
       "      <td>58.00</td>\n",
       "      <td>Sci&amp;Tech</td>\n",
       "      <td>No</td>\n",
       "      <td>55.0</td>\n",
       "      <td>Mkt&amp;HR</td>\n",
       "      <td>58.80</td>\n",
       "      <td>Placed</td>\n",
       "      <td>270000.0</td>\n",
       "    </tr>\n",
       "    <tr>\n",
       "      <th>1</th>\n",
       "      <td>M</td>\n",
       "      <td>79.33</td>\n",
       "      <td>Central</td>\n",
       "      <td>78.33</td>\n",
       "      <td>Others</td>\n",
       "      <td>Science</td>\n",
       "      <td>77.48</td>\n",
       "      <td>Sci&amp;Tech</td>\n",
       "      <td>Yes</td>\n",
       "      <td>86.5</td>\n",
       "      <td>Mkt&amp;Fin</td>\n",
       "      <td>66.28</td>\n",
       "      <td>Placed</td>\n",
       "      <td>200000.0</td>\n",
       "    </tr>\n",
       "    <tr>\n",
       "      <th>2</th>\n",
       "      <td>M</td>\n",
       "      <td>65.00</td>\n",
       "      <td>Central</td>\n",
       "      <td>68.00</td>\n",
       "      <td>Central</td>\n",
       "      <td>Arts</td>\n",
       "      <td>64.00</td>\n",
       "      <td>Comm&amp;Mgmt</td>\n",
       "      <td>No</td>\n",
       "      <td>75.0</td>\n",
       "      <td>Mkt&amp;Fin</td>\n",
       "      <td>57.80</td>\n",
       "      <td>Placed</td>\n",
       "      <td>250000.0</td>\n",
       "    </tr>\n",
       "    <tr>\n",
       "      <th>3</th>\n",
       "      <td>M</td>\n",
       "      <td>56.00</td>\n",
       "      <td>Central</td>\n",
       "      <td>52.00</td>\n",
       "      <td>Central</td>\n",
       "      <td>Science</td>\n",
       "      <td>52.00</td>\n",
       "      <td>Sci&amp;Tech</td>\n",
       "      <td>No</td>\n",
       "      <td>66.0</td>\n",
       "      <td>Mkt&amp;HR</td>\n",
       "      <td>59.43</td>\n",
       "      <td>Not Placed</td>\n",
       "      <td>NaN</td>\n",
       "    </tr>\n",
       "    <tr>\n",
       "      <th>4</th>\n",
       "      <td>M</td>\n",
       "      <td>85.80</td>\n",
       "      <td>Central</td>\n",
       "      <td>73.60</td>\n",
       "      <td>Central</td>\n",
       "      <td>Commerce</td>\n",
       "      <td>73.30</td>\n",
       "      <td>Comm&amp;Mgmt</td>\n",
       "      <td>No</td>\n",
       "      <td>96.8</td>\n",
       "      <td>Mkt&amp;Fin</td>\n",
       "      <td>55.50</td>\n",
       "      <td>Placed</td>\n",
       "      <td>425000.0</td>\n",
       "    </tr>\n",
       "    <tr>\n",
       "      <th>...</th>\n",
       "      <td>...</td>\n",
       "      <td>...</td>\n",
       "      <td>...</td>\n",
       "      <td>...</td>\n",
       "      <td>...</td>\n",
       "      <td>...</td>\n",
       "      <td>...</td>\n",
       "      <td>...</td>\n",
       "      <td>...</td>\n",
       "      <td>...</td>\n",
       "      <td>...</td>\n",
       "      <td>...</td>\n",
       "      <td>...</td>\n",
       "      <td>...</td>\n",
       "    </tr>\n",
       "    <tr>\n",
       "      <th>210</th>\n",
       "      <td>M</td>\n",
       "      <td>80.60</td>\n",
       "      <td>Others</td>\n",
       "      <td>82.00</td>\n",
       "      <td>Others</td>\n",
       "      <td>Commerce</td>\n",
       "      <td>77.60</td>\n",
       "      <td>Comm&amp;Mgmt</td>\n",
       "      <td>No</td>\n",
       "      <td>91.0</td>\n",
       "      <td>Mkt&amp;Fin</td>\n",
       "      <td>74.49</td>\n",
       "      <td>Placed</td>\n",
       "      <td>400000.0</td>\n",
       "    </tr>\n",
       "    <tr>\n",
       "      <th>211</th>\n",
       "      <td>M</td>\n",
       "      <td>58.00</td>\n",
       "      <td>Others</td>\n",
       "      <td>60.00</td>\n",
       "      <td>Others</td>\n",
       "      <td>Science</td>\n",
       "      <td>72.00</td>\n",
       "      <td>Sci&amp;Tech</td>\n",
       "      <td>No</td>\n",
       "      <td>74.0</td>\n",
       "      <td>Mkt&amp;Fin</td>\n",
       "      <td>53.62</td>\n",
       "      <td>Placed</td>\n",
       "      <td>275000.0</td>\n",
       "    </tr>\n",
       "    <tr>\n",
       "      <th>212</th>\n",
       "      <td>M</td>\n",
       "      <td>67.00</td>\n",
       "      <td>Others</td>\n",
       "      <td>67.00</td>\n",
       "      <td>Others</td>\n",
       "      <td>Commerce</td>\n",
       "      <td>73.00</td>\n",
       "      <td>Comm&amp;Mgmt</td>\n",
       "      <td>Yes</td>\n",
       "      <td>59.0</td>\n",
       "      <td>Mkt&amp;Fin</td>\n",
       "      <td>69.72</td>\n",
       "      <td>Placed</td>\n",
       "      <td>295000.0</td>\n",
       "    </tr>\n",
       "    <tr>\n",
       "      <th>213</th>\n",
       "      <td>F</td>\n",
       "      <td>74.00</td>\n",
       "      <td>Others</td>\n",
       "      <td>66.00</td>\n",
       "      <td>Others</td>\n",
       "      <td>Commerce</td>\n",
       "      <td>58.00</td>\n",
       "      <td>Comm&amp;Mgmt</td>\n",
       "      <td>No</td>\n",
       "      <td>70.0</td>\n",
       "      <td>Mkt&amp;HR</td>\n",
       "      <td>60.23</td>\n",
       "      <td>Placed</td>\n",
       "      <td>204000.0</td>\n",
       "    </tr>\n",
       "    <tr>\n",
       "      <th>214</th>\n",
       "      <td>M</td>\n",
       "      <td>62.00</td>\n",
       "      <td>Central</td>\n",
       "      <td>58.00</td>\n",
       "      <td>Others</td>\n",
       "      <td>Science</td>\n",
       "      <td>53.00</td>\n",
       "      <td>Comm&amp;Mgmt</td>\n",
       "      <td>No</td>\n",
       "      <td>89.0</td>\n",
       "      <td>Mkt&amp;HR</td>\n",
       "      <td>60.22</td>\n",
       "      <td>Not Placed</td>\n",
       "      <td>NaN</td>\n",
       "    </tr>\n",
       "  </tbody>\n",
       "</table>\n",
       "<p>215 rows × 14 columns</p>\n",
       "</div>"
      ],
      "text/plain": [
       "    gender  ssc_p    ssc_b  hsc_p    hsc_b     hsc_s  degree_p   degree_t  \\\n",
       "0        M  67.00   Others  91.00   Others  Commerce     58.00   Sci&Tech   \n",
       "1        M  79.33  Central  78.33   Others   Science     77.48   Sci&Tech   \n",
       "2        M  65.00  Central  68.00  Central      Arts     64.00  Comm&Mgmt   \n",
       "3        M  56.00  Central  52.00  Central   Science     52.00   Sci&Tech   \n",
       "4        M  85.80  Central  73.60  Central  Commerce     73.30  Comm&Mgmt   \n",
       "..     ...    ...      ...    ...      ...       ...       ...        ...   \n",
       "210      M  80.60   Others  82.00   Others  Commerce     77.60  Comm&Mgmt   \n",
       "211      M  58.00   Others  60.00   Others   Science     72.00   Sci&Tech   \n",
       "212      M  67.00   Others  67.00   Others  Commerce     73.00  Comm&Mgmt   \n",
       "213      F  74.00   Others  66.00   Others  Commerce     58.00  Comm&Mgmt   \n",
       "214      M  62.00  Central  58.00   Others   Science     53.00  Comm&Mgmt   \n",
       "\n",
       "    workex  etest_p specialisation  mba_p      status    salary  \n",
       "0       No     55.0         Mkt&HR  58.80      Placed  270000.0  \n",
       "1      Yes     86.5        Mkt&Fin  66.28      Placed  200000.0  \n",
       "2       No     75.0        Mkt&Fin  57.80      Placed  250000.0  \n",
       "3       No     66.0         Mkt&HR  59.43  Not Placed       NaN  \n",
       "4       No     96.8        Mkt&Fin  55.50      Placed  425000.0  \n",
       "..     ...      ...            ...    ...         ...       ...  \n",
       "210     No     91.0        Mkt&Fin  74.49      Placed  400000.0  \n",
       "211     No     74.0        Mkt&Fin  53.62      Placed  275000.0  \n",
       "212    Yes     59.0        Mkt&Fin  69.72      Placed  295000.0  \n",
       "213     No     70.0         Mkt&HR  60.23      Placed  204000.0  \n",
       "214     No     89.0         Mkt&HR  60.22  Not Placed       NaN  \n",
       "\n",
       "[215 rows x 14 columns]"
      ]
     },
     "execution_count": 2,
     "metadata": {},
     "output_type": "execute_result"
    }
   ],
   "source": [
    "dataset=pd.read_csv('Placement.csv')\n",
    "dataset.drop('sl_no',axis=1,inplace=True)\n",
    "dataset"
   ]
  },
  {
   "cell_type": "code",
   "execution_count": 3,
   "id": "98cae0b5-024d-4af6-9db5-6483dc1338d6",
   "metadata": {},
   "outputs": [
    {
     "data": {
      "text/plain": [
       "gender             0\n",
       "ssc_p              0\n",
       "ssc_b              0\n",
       "hsc_p              0\n",
       "hsc_b              0\n",
       "hsc_s              0\n",
       "degree_p           0\n",
       "degree_t           0\n",
       "workex             0\n",
       "etest_p            0\n",
       "specialisation     0\n",
       "mba_p              0\n",
       "status             0\n",
       "salary            67\n",
       "dtype: int64"
      ]
     },
     "execution_count": 3,
     "metadata": {},
     "output_type": "execute_result"
    }
   ],
   "source": [
    "dataset.isnull().sum()"
   ]
  },
  {
   "cell_type": "markdown",
   "id": "833534b8-26e4-4d7b-a4a1-045ecc6c5b62",
   "metadata": {},
   "source": [
    "1. Replacing the NaN values in the dataset"
   ]
  },
  {
   "cell_type": "code",
   "execution_count": 4,
   "id": "8b79396c-1731-4ce7-be0e-b3137e3f4460",
   "metadata": {},
   "outputs": [],
   "source": [
    "dataset.fillna(0,inplace=True)"
   ]
  },
  {
   "cell_type": "code",
   "execution_count": 5,
   "id": "11970652-0634-4fee-9a5c-ac00280cfc2b",
   "metadata": {},
   "outputs": [
    {
     "data": {
      "text/html": [
       "<div>\n",
       "<style scoped>\n",
       "    .dataframe tbody tr th:only-of-type {\n",
       "        vertical-align: middle;\n",
       "    }\n",
       "\n",
       "    .dataframe tbody tr th {\n",
       "        vertical-align: top;\n",
       "    }\n",
       "\n",
       "    .dataframe thead th {\n",
       "        text-align: right;\n",
       "    }\n",
       "</style>\n",
       "<table border=\"1\" class=\"dataframe\">\n",
       "  <thead>\n",
       "    <tr style=\"text-align: right;\">\n",
       "      <th></th>\n",
       "      <th>gender</th>\n",
       "      <th>ssc_p</th>\n",
       "      <th>ssc_b</th>\n",
       "      <th>hsc_p</th>\n",
       "      <th>hsc_b</th>\n",
       "      <th>hsc_s</th>\n",
       "      <th>degree_p</th>\n",
       "      <th>degree_t</th>\n",
       "      <th>workex</th>\n",
       "      <th>etest_p</th>\n",
       "      <th>specialisation</th>\n",
       "      <th>mba_p</th>\n",
       "      <th>status</th>\n",
       "      <th>salary</th>\n",
       "    </tr>\n",
       "  </thead>\n",
       "  <tbody>\n",
       "    <tr>\n",
       "      <th>0</th>\n",
       "      <td>M</td>\n",
       "      <td>67.00</td>\n",
       "      <td>Others</td>\n",
       "      <td>91.00</td>\n",
       "      <td>Others</td>\n",
       "      <td>Commerce</td>\n",
       "      <td>58.00</td>\n",
       "      <td>Sci&amp;Tech</td>\n",
       "      <td>No</td>\n",
       "      <td>55.0</td>\n",
       "      <td>Mkt&amp;HR</td>\n",
       "      <td>58.80</td>\n",
       "      <td>Placed</td>\n",
       "      <td>270000.0</td>\n",
       "    </tr>\n",
       "    <tr>\n",
       "      <th>1</th>\n",
       "      <td>M</td>\n",
       "      <td>79.33</td>\n",
       "      <td>Central</td>\n",
       "      <td>78.33</td>\n",
       "      <td>Others</td>\n",
       "      <td>Science</td>\n",
       "      <td>77.48</td>\n",
       "      <td>Sci&amp;Tech</td>\n",
       "      <td>Yes</td>\n",
       "      <td>86.5</td>\n",
       "      <td>Mkt&amp;Fin</td>\n",
       "      <td>66.28</td>\n",
       "      <td>Placed</td>\n",
       "      <td>200000.0</td>\n",
       "    </tr>\n",
       "    <tr>\n",
       "      <th>2</th>\n",
       "      <td>M</td>\n",
       "      <td>65.00</td>\n",
       "      <td>Central</td>\n",
       "      <td>68.00</td>\n",
       "      <td>Central</td>\n",
       "      <td>Arts</td>\n",
       "      <td>64.00</td>\n",
       "      <td>Comm&amp;Mgmt</td>\n",
       "      <td>No</td>\n",
       "      <td>75.0</td>\n",
       "      <td>Mkt&amp;Fin</td>\n",
       "      <td>57.80</td>\n",
       "      <td>Placed</td>\n",
       "      <td>250000.0</td>\n",
       "    </tr>\n",
       "    <tr>\n",
       "      <th>3</th>\n",
       "      <td>M</td>\n",
       "      <td>56.00</td>\n",
       "      <td>Central</td>\n",
       "      <td>52.00</td>\n",
       "      <td>Central</td>\n",
       "      <td>Science</td>\n",
       "      <td>52.00</td>\n",
       "      <td>Sci&amp;Tech</td>\n",
       "      <td>No</td>\n",
       "      <td>66.0</td>\n",
       "      <td>Mkt&amp;HR</td>\n",
       "      <td>59.43</td>\n",
       "      <td>Not Placed</td>\n",
       "      <td>0.0</td>\n",
       "    </tr>\n",
       "    <tr>\n",
       "      <th>4</th>\n",
       "      <td>M</td>\n",
       "      <td>85.80</td>\n",
       "      <td>Central</td>\n",
       "      <td>73.60</td>\n",
       "      <td>Central</td>\n",
       "      <td>Commerce</td>\n",
       "      <td>73.30</td>\n",
       "      <td>Comm&amp;Mgmt</td>\n",
       "      <td>No</td>\n",
       "      <td>96.8</td>\n",
       "      <td>Mkt&amp;Fin</td>\n",
       "      <td>55.50</td>\n",
       "      <td>Placed</td>\n",
       "      <td>425000.0</td>\n",
       "    </tr>\n",
       "    <tr>\n",
       "      <th>...</th>\n",
       "      <td>...</td>\n",
       "      <td>...</td>\n",
       "      <td>...</td>\n",
       "      <td>...</td>\n",
       "      <td>...</td>\n",
       "      <td>...</td>\n",
       "      <td>...</td>\n",
       "      <td>...</td>\n",
       "      <td>...</td>\n",
       "      <td>...</td>\n",
       "      <td>...</td>\n",
       "      <td>...</td>\n",
       "      <td>...</td>\n",
       "      <td>...</td>\n",
       "    </tr>\n",
       "    <tr>\n",
       "      <th>210</th>\n",
       "      <td>M</td>\n",
       "      <td>80.60</td>\n",
       "      <td>Others</td>\n",
       "      <td>82.00</td>\n",
       "      <td>Others</td>\n",
       "      <td>Commerce</td>\n",
       "      <td>77.60</td>\n",
       "      <td>Comm&amp;Mgmt</td>\n",
       "      <td>No</td>\n",
       "      <td>91.0</td>\n",
       "      <td>Mkt&amp;Fin</td>\n",
       "      <td>74.49</td>\n",
       "      <td>Placed</td>\n",
       "      <td>400000.0</td>\n",
       "    </tr>\n",
       "    <tr>\n",
       "      <th>211</th>\n",
       "      <td>M</td>\n",
       "      <td>58.00</td>\n",
       "      <td>Others</td>\n",
       "      <td>60.00</td>\n",
       "      <td>Others</td>\n",
       "      <td>Science</td>\n",
       "      <td>72.00</td>\n",
       "      <td>Sci&amp;Tech</td>\n",
       "      <td>No</td>\n",
       "      <td>74.0</td>\n",
       "      <td>Mkt&amp;Fin</td>\n",
       "      <td>53.62</td>\n",
       "      <td>Placed</td>\n",
       "      <td>275000.0</td>\n",
       "    </tr>\n",
       "    <tr>\n",
       "      <th>212</th>\n",
       "      <td>M</td>\n",
       "      <td>67.00</td>\n",
       "      <td>Others</td>\n",
       "      <td>67.00</td>\n",
       "      <td>Others</td>\n",
       "      <td>Commerce</td>\n",
       "      <td>73.00</td>\n",
       "      <td>Comm&amp;Mgmt</td>\n",
       "      <td>Yes</td>\n",
       "      <td>59.0</td>\n",
       "      <td>Mkt&amp;Fin</td>\n",
       "      <td>69.72</td>\n",
       "      <td>Placed</td>\n",
       "      <td>295000.0</td>\n",
       "    </tr>\n",
       "    <tr>\n",
       "      <th>213</th>\n",
       "      <td>F</td>\n",
       "      <td>74.00</td>\n",
       "      <td>Others</td>\n",
       "      <td>66.00</td>\n",
       "      <td>Others</td>\n",
       "      <td>Commerce</td>\n",
       "      <td>58.00</td>\n",
       "      <td>Comm&amp;Mgmt</td>\n",
       "      <td>No</td>\n",
       "      <td>70.0</td>\n",
       "      <td>Mkt&amp;HR</td>\n",
       "      <td>60.23</td>\n",
       "      <td>Placed</td>\n",
       "      <td>204000.0</td>\n",
       "    </tr>\n",
       "    <tr>\n",
       "      <th>214</th>\n",
       "      <td>M</td>\n",
       "      <td>62.00</td>\n",
       "      <td>Central</td>\n",
       "      <td>58.00</td>\n",
       "      <td>Others</td>\n",
       "      <td>Science</td>\n",
       "      <td>53.00</td>\n",
       "      <td>Comm&amp;Mgmt</td>\n",
       "      <td>No</td>\n",
       "      <td>89.0</td>\n",
       "      <td>Mkt&amp;HR</td>\n",
       "      <td>60.22</td>\n",
       "      <td>Not Placed</td>\n",
       "      <td>0.0</td>\n",
       "    </tr>\n",
       "  </tbody>\n",
       "</table>\n",
       "<p>215 rows × 14 columns</p>\n",
       "</div>"
      ],
      "text/plain": [
       "    gender  ssc_p    ssc_b  hsc_p    hsc_b     hsc_s  degree_p   degree_t  \\\n",
       "0        M  67.00   Others  91.00   Others  Commerce     58.00   Sci&Tech   \n",
       "1        M  79.33  Central  78.33   Others   Science     77.48   Sci&Tech   \n",
       "2        M  65.00  Central  68.00  Central      Arts     64.00  Comm&Mgmt   \n",
       "3        M  56.00  Central  52.00  Central   Science     52.00   Sci&Tech   \n",
       "4        M  85.80  Central  73.60  Central  Commerce     73.30  Comm&Mgmt   \n",
       "..     ...    ...      ...    ...      ...       ...       ...        ...   \n",
       "210      M  80.60   Others  82.00   Others  Commerce     77.60  Comm&Mgmt   \n",
       "211      M  58.00   Others  60.00   Others   Science     72.00   Sci&Tech   \n",
       "212      M  67.00   Others  67.00   Others  Commerce     73.00  Comm&Mgmt   \n",
       "213      F  74.00   Others  66.00   Others  Commerce     58.00  Comm&Mgmt   \n",
       "214      M  62.00  Central  58.00   Others   Science     53.00  Comm&Mgmt   \n",
       "\n",
       "    workex  etest_p specialisation  mba_p      status    salary  \n",
       "0       No     55.0         Mkt&HR  58.80      Placed  270000.0  \n",
       "1      Yes     86.5        Mkt&Fin  66.28      Placed  200000.0  \n",
       "2       No     75.0        Mkt&Fin  57.80      Placed  250000.0  \n",
       "3       No     66.0         Mkt&HR  59.43  Not Placed       0.0  \n",
       "4       No     96.8        Mkt&Fin  55.50      Placed  425000.0  \n",
       "..     ...      ...            ...    ...         ...       ...  \n",
       "210     No     91.0        Mkt&Fin  74.49      Placed  400000.0  \n",
       "211     No     74.0        Mkt&Fin  53.62      Placed  275000.0  \n",
       "212    Yes     59.0        Mkt&Fin  69.72      Placed  295000.0  \n",
       "213     No     70.0         Mkt&HR  60.23      Placed  204000.0  \n",
       "214     No     89.0         Mkt&HR  60.22  Not Placed       0.0  \n",
       "\n",
       "[215 rows x 14 columns]"
      ]
     },
     "execution_count": 5,
     "metadata": {},
     "output_type": "execute_result"
    }
   ],
   "source": [
    "dataset"
   ]
  },
  {
   "cell_type": "code",
   "execution_count": 6,
   "id": "517f632d-64f1-4138-b8ec-7ca629ff1d66",
   "metadata": {},
   "outputs": [
    {
     "data": {
      "text/plain": [
       "gender            0\n",
       "ssc_p             0\n",
       "ssc_b             0\n",
       "hsc_p             0\n",
       "hsc_b             0\n",
       "hsc_s             0\n",
       "degree_p          0\n",
       "degree_t          0\n",
       "workex            0\n",
       "etest_p           0\n",
       "specialisation    0\n",
       "mba_p             0\n",
       "status            0\n",
       "salary            0\n",
       "dtype: int64"
      ]
     },
     "execution_count": 6,
     "metadata": {},
     "output_type": "execute_result"
    }
   ],
   "source": [
    "dataset.isna().sum()"
   ]
  },
  {
   "cell_type": "markdown",
   "id": "a4243082-93bc-4eed-8f0f-2b7e4b0c8a73",
   "metadata": {},
   "source": [
    "4. Finding the relation between salary and mba_p"
   ]
  },
  {
   "cell_type": "code",
   "execution_count": 7,
   "id": "996de609-b24e-4410-95db-6e7e75982a4f",
   "metadata": {},
   "outputs": [
    {
     "data": {
      "text/html": [
       "<div>\n",
       "<style scoped>\n",
       "    .dataframe tbody tr th:only-of-type {\n",
       "        vertical-align: middle;\n",
       "    }\n",
       "\n",
       "    .dataframe tbody tr th {\n",
       "        vertical-align: top;\n",
       "    }\n",
       "\n",
       "    .dataframe thead th {\n",
       "        text-align: right;\n",
       "    }\n",
       "</style>\n",
       "<table border=\"1\" class=\"dataframe\">\n",
       "  <thead>\n",
       "    <tr style=\"text-align: right;\">\n",
       "      <th></th>\n",
       "      <th>ssc_p</th>\n",
       "      <th>hsc_p</th>\n",
       "      <th>degree_p</th>\n",
       "      <th>etest_p</th>\n",
       "      <th>mba_p</th>\n",
       "      <th>salary</th>\n",
       "    </tr>\n",
       "  </thead>\n",
       "  <tbody>\n",
       "    <tr>\n",
       "      <th>ssc_p</th>\n",
       "      <td>1.000000</td>\n",
       "      <td>0.511472</td>\n",
       "      <td>0.538404</td>\n",
       "      <td>0.261993</td>\n",
       "      <td>0.388478</td>\n",
       "      <td>0.538090</td>\n",
       "    </tr>\n",
       "    <tr>\n",
       "      <th>hsc_p</th>\n",
       "      <td>0.511472</td>\n",
       "      <td>1.000000</td>\n",
       "      <td>0.434206</td>\n",
       "      <td>0.245113</td>\n",
       "      <td>0.354823</td>\n",
       "      <td>0.452569</td>\n",
       "    </tr>\n",
       "    <tr>\n",
       "      <th>degree_p</th>\n",
       "      <td>0.538404</td>\n",
       "      <td>0.434206</td>\n",
       "      <td>1.000000</td>\n",
       "      <td>0.224470</td>\n",
       "      <td>0.402364</td>\n",
       "      <td>0.408371</td>\n",
       "    </tr>\n",
       "    <tr>\n",
       "      <th>etest_p</th>\n",
       "      <td>0.261993</td>\n",
       "      <td>0.245113</td>\n",
       "      <td>0.224470</td>\n",
       "      <td>1.000000</td>\n",
       "      <td>0.218055</td>\n",
       "      <td>0.186988</td>\n",
       "    </tr>\n",
       "    <tr>\n",
       "      <th>mba_p</th>\n",
       "      <td>0.388478</td>\n",
       "      <td>0.354823</td>\n",
       "      <td>0.402364</td>\n",
       "      <td>0.218055</td>\n",
       "      <td>1.000000</td>\n",
       "      <td>0.139823</td>\n",
       "    </tr>\n",
       "    <tr>\n",
       "      <th>salary</th>\n",
       "      <td>0.538090</td>\n",
       "      <td>0.452569</td>\n",
       "      <td>0.408371</td>\n",
       "      <td>0.186988</td>\n",
       "      <td>0.139823</td>\n",
       "      <td>1.000000</td>\n",
       "    </tr>\n",
       "  </tbody>\n",
       "</table>\n",
       "</div>"
      ],
      "text/plain": [
       "             ssc_p     hsc_p  degree_p   etest_p     mba_p    salary\n",
       "ssc_p     1.000000  0.511472  0.538404  0.261993  0.388478  0.538090\n",
       "hsc_p     0.511472  1.000000  0.434206  0.245113  0.354823  0.452569\n",
       "degree_p  0.538404  0.434206  1.000000  0.224470  0.402364  0.408371\n",
       "etest_p   0.261993  0.245113  0.224470  1.000000  0.218055  0.186988\n",
       "mba_p     0.388478  0.354823  0.402364  0.218055  1.000000  0.139823\n",
       "salary    0.538090  0.452569  0.408371  0.186988  0.139823  1.000000"
      ]
     },
     "execution_count": 7,
     "metadata": {},
     "output_type": "execute_result"
    }
   ],
   "source": [
    "dataset.corr(numeric_only=True)"
   ]
  },
  {
   "cell_type": "markdown",
   "id": "11b1acf5-3324-48a3-9d27-e02fa5868ab0",
   "metadata": {},
   "source": [
    "5. Specialisation getting maximum salary:"
   ]
  },
  {
   "cell_type": "code",
   "execution_count": 8,
   "id": "bfe871c7-3632-4d2b-8b58-cd8740c8f7d7",
   "metadata": {},
   "outputs": [
    {
     "data": {
      "text/plain": [
       "940000.0"
      ]
     },
     "execution_count": 8,
     "metadata": {},
     "output_type": "execute_result"
    }
   ],
   "source": [
    "dataset['salary'].max()"
   ]
  },
  {
   "cell_type": "code",
   "execution_count": 9,
   "id": "669b5842-b1de-44a5-bfec-6b3da0517b01",
   "metadata": {},
   "outputs": [
    {
     "data": {
      "text/html": [
       "<div>\n",
       "<style scoped>\n",
       "    .dataframe tbody tr th:only-of-type {\n",
       "        vertical-align: middle;\n",
       "    }\n",
       "\n",
       "    .dataframe tbody tr th {\n",
       "        vertical-align: top;\n",
       "    }\n",
       "\n",
       "    .dataframe thead th {\n",
       "        text-align: right;\n",
       "    }\n",
       "</style>\n",
       "<table border=\"1\" class=\"dataframe\">\n",
       "  <thead>\n",
       "    <tr style=\"text-align: right;\">\n",
       "      <th></th>\n",
       "      <th>gender</th>\n",
       "      <th>ssc_p</th>\n",
       "      <th>ssc_b</th>\n",
       "      <th>hsc_p</th>\n",
       "      <th>hsc_b</th>\n",
       "      <th>hsc_s</th>\n",
       "      <th>degree_p</th>\n",
       "      <th>degree_t</th>\n",
       "      <th>workex</th>\n",
       "      <th>etest_p</th>\n",
       "      <th>specialisation</th>\n",
       "      <th>mba_p</th>\n",
       "      <th>status</th>\n",
       "      <th>salary</th>\n",
       "    </tr>\n",
       "  </thead>\n",
       "  <tbody>\n",
       "    <tr>\n",
       "      <th>119</th>\n",
       "      <td>M</td>\n",
       "      <td>60.8</td>\n",
       "      <td>Central</td>\n",
       "      <td>68.4</td>\n",
       "      <td>Central</td>\n",
       "      <td>Commerce</td>\n",
       "      <td>64.6</td>\n",
       "      <td>Comm&amp;Mgmt</td>\n",
       "      <td>Yes</td>\n",
       "      <td>82.66</td>\n",
       "      <td>Mkt&amp;Fin</td>\n",
       "      <td>64.34</td>\n",
       "      <td>Placed</td>\n",
       "      <td>940000.0</td>\n",
       "    </tr>\n",
       "  </tbody>\n",
       "</table>\n",
       "</div>"
      ],
      "text/plain": [
       "    gender  ssc_p    ssc_b  hsc_p    hsc_b     hsc_s  degree_p   degree_t  \\\n",
       "119      M   60.8  Central   68.4  Central  Commerce      64.6  Comm&Mgmt   \n",
       "\n",
       "    workex  etest_p specialisation  mba_p  status    salary  \n",
       "119    Yes    82.66        Mkt&Fin  64.34  Placed  940000.0  "
      ]
     },
     "execution_count": 9,
     "metadata": {},
     "output_type": "execute_result"
    }
   ],
   "source": [
    "dataset.loc[dataset['salary']==940000]"
   ]
  },
  {
   "cell_type": "markdown",
   "id": "38807043-606f-48e6-bbee-c4df98bb6a26",
   "metadata": {},
   "source": [
    "6. To find the no. of students getting salary above 500000:"
   ]
  },
  {
   "cell_type": "code",
   "execution_count": 10,
   "id": "cbd58438-4fee-4877-8c14-85e0fb45734c",
   "metadata": {},
   "outputs": [],
   "source": [
    "salary=[]\n",
    "for i in dataset['salary']:\n",
    "    if i>500000:\n",
    "        salary.append(i)"
   ]
  },
  {
   "cell_type": "code",
   "execution_count": 11,
   "id": "812f485d-4501-454e-995b-fa11c1c664db",
   "metadata": {},
   "outputs": [
    {
     "data": {
      "text/plain": [
       "[940000.0, 690000.0, 650000.0]"
      ]
     },
     "execution_count": 11,
     "metadata": {},
     "output_type": "execute_result"
    }
   ],
   "source": [
    "salary"
   ]
  },
  {
   "cell_type": "code",
   "execution_count": 12,
   "id": "55b2f935-81ac-4e93-afb4-c4cf08d64210",
   "metadata": {},
   "outputs": [
    {
     "data": {
      "text/plain": [
       "3"
      ]
     },
     "execution_count": 12,
     "metadata": {},
     "output_type": "execute_result"
    }
   ],
   "source": [
    "len(salary)"
   ]
  },
  {
   "cell_type": "markdown",
   "id": "d5d5c9eb-117a-4d5e-a505-5f8af7de91d3",
   "metadata": {},
   "source": [
    "7. Analysis of Variance between etest_p and mba_p:"
   ]
  },
  {
   "cell_type": "code",
   "execution_count": 13,
   "id": "4414aa5d-48aa-4817-8265-ffe636793f59",
   "metadata": {},
   "outputs": [],
   "source": [
    "#Statement: There is significant difference between etest_p and mba_p at 5% significance level."
   ]
  },
  {
   "cell_type": "code",
   "execution_count": 14,
   "id": "f75b597a-6c85-4931-befc-544de349050d",
   "metadata": {},
   "outputs": [],
   "source": [
    "#Null hypothesis: There is no significant difference between etest_p and mba_p."
   ]
  },
  {
   "cell_type": "code",
   "execution_count": 15,
   "id": "adf28304-e731-4b1f-b59e-0946996f09bf",
   "metadata": {},
   "outputs": [
    {
     "data": {
      "text/plain": [
       "F_onewayResult(statistic=98.64487057324706, pvalue=4.672547689133573e-21)"
      ]
     },
     "execution_count": 15,
     "metadata": {},
     "output_type": "execute_result"
    }
   ],
   "source": [
    "import scipy.stats as stats\n",
    "stats.f_oneway(dataset['etest_p'],dataset['mba_p'])"
   ]
  },
  {
   "cell_type": "code",
   "execution_count": 16,
   "id": "21f4c3dc-0626-4627-b6b1-37cbf8be4630",
   "metadata": {},
   "outputs": [],
   "source": [
    "#Conclusion: Since p value<5%, we reject null hypothesis. Hence there is significant difference between etest_p and mba_p at 5% significance level."
   ]
  },
  {
   "cell_type": "markdown",
   "id": "a29dcb5d-2cde-4253-b16a-dbcca1ec4e86",
   "metadata": {},
   "source": [
    "8. Hypothesis Testing"
   ]
  },
  {
   "cell_type": "code",
   "execution_count": 17,
   "id": "cf61ac8a-8f82-4210-a2ad-655d3a2f7199",
   "metadata": {},
   "outputs": [],
   "source": [
    "#Statement: Testing the similarity between the degree_t(Sci&Tech) and specialisation(Mkt&HR) with respect to salary."
   ]
  },
  {
   "cell_type": "code",
   "execution_count": 18,
   "id": "9ba54998-d700-47df-84b7-2ee4322c96d6",
   "metadata": {},
   "outputs": [],
   "source": [
    "#Null hypothesis: There is no similarity between the degree_t(Sci&Tech) and specialisation(Mkt&HR) with respect to salary."
   ]
  },
  {
   "cell_type": "code",
   "execution_count": 19,
   "id": "e83213e6-2f37-47d0-88ea-e246dcdb3fa2",
   "metadata": {},
   "outputs": [],
   "source": [
    "#Alternate hypothesis: There is similarity between the degree_t(Sci&Tech) and specialisation(Mkt&HR) with respect to salary."
   ]
  },
  {
   "cell_type": "code",
   "execution_count": 20,
   "id": "8483bf97-fd26-4d48-a801-88dca11d90a6",
   "metadata": {},
   "outputs": [
    {
     "data": {
      "text/plain": [
       "TtestResult(statistic=2.692041243555374, pvalue=0.007897969943471179, df=152.0)"
      ]
     },
     "execution_count": 20,
     "metadata": {},
     "output_type": "execute_result"
    }
   ],
   "source": [
    "from scipy.stats import ttest_ind\n",
    "Sci_tech=dataset[dataset['degree_t']=='Sci&Tech']['salary']\n",
    "Mkt_HR=dataset[dataset['specialisation']=='Mkt&HR']['salary']\n",
    "ttest_ind(Sci_tech,Mkt_HR)"
   ]
  },
  {
   "cell_type": "code",
   "execution_count": 21,
   "id": "42dd283a-6d7a-4f87-ae8d-1f35c86ef83d",
   "metadata": {},
   "outputs": [],
   "source": [
    "#Conclusion: At 5% significant level, the pvalue is 0.7%, hence alternate hypothesis is accepted. \n",
    "#So there is similarity between the degree_t(Sci&Tech) and specialisation(Mkt&HR) with respect to salary."
   ]
  },
  {
   "cell_type": "markdown",
   "id": "f81743f1-f08e-42a0-ad7f-d20df1981b6a",
   "metadata": {},
   "source": [
    "9. Converting the normal distribution to standard normal distribution for salary column"
   ]
  },
  {
   "cell_type": "code",
   "execution_count": 22,
   "id": "a53bd9ba-b55c-446a-8a72-134053d34302",
   "metadata": {},
   "outputs": [
    {
     "name": "stdout",
     "output_type": "stream",
     "text": [
      "Mean:  198702.32558139536 Standard Deviation:  154780.92671560106\n"
     ]
    },
    {
     "name": "stderr",
     "output_type": "stream",
     "text": [
      "C:\\Users\\DELL\\AppData\\Local\\Temp\\ipykernel_15776\\2303126359.py:8: UserWarning: \n",
      "\n",
      "`distplot` is a deprecated function and will be removed in seaborn v0.14.0.\n",
      "\n",
      "Please adapt your code to use either `displot` (a figure-level function with\n",
      "similar flexibility) or `histplot` (an axes-level function for histograms).\n",
      "\n",
      "For a guide to updating your code to use the new functions, please see\n",
      "https://gist.github.com/mwaskom/de44147ed2974457ad6372750bbe5751\n",
      "\n",
      "  sns.distplot(dataset['salary'],kde_kws={'color':'Blue'},color='Violet')\n"
     ]
    },
    {
     "data": {
      "text/plain": [
       "<Axes: xlabel='salary', ylabel='Density'>"
      ]
     },
     "execution_count": 22,
     "metadata": {},
     "output_type": "execute_result"
    },
    {
     "data": {
      "image/png": "[encoded data removed]",
      "text/plain": [
       "<Figure size 640x480 with 1 Axes>"
      ]
     },
     "metadata": {},
     "output_type": "display_data"
    }
   ],
   "source": [
    "mean=dataset['salary'].mean()\n",
    "std_dev=dataset['salary'].std()\n",
    "print(\"Mean: \",mean,\"Standard Deviation: \",std_dev)\n",
    "\n",
    "#values=[value for value in dataset['salary']]\n",
    "z_score=[((x-mean)/std_dev) for x in dataset['salary']]\n",
    "\n",
    "sns.distplot(dataset['salary'],kde_kws={'color':'Blue'},color='Violet')"
   ]
  },
  {
   "cell_type": "markdown",
   "id": "4d46003c-32ee-4d6e-9906-981c579cf386",
   "metadata": {},
   "source": [
    "10. Probability Density Function of salary:"
   ]
  },
  {
   "cell_type": "code",
   "execution_count": 23,
   "id": "a63187e5-15ff-4721-816c-ac1a6bf20061",
   "metadata": {},
   "outputs": [],
   "source": [
    "from matplotlib import pyplot\n",
    "from scipy.stats import norm\n",
    "\n",
    "def probabilitydensityfunc(dataset,startrange,endrange):\n",
    "    sns.distplot(dataset,kde=True,kde_kws={'color':'Red'},color='Green')\n",
    "    pyplot.axvline(startrange,color='Blue')\n",
    "    pyplot.axvline(endrange,color='Blue')\n",
    "    \n",
    "    mean=dataset.mean()\n",
    "    std_dev=dataset.std()\n",
    "    print(\"Mean: \",mean,\"Standard Deviation: \",std_dev)\n",
    "\n",
    "    dist=norm(mean,std_dev)\n",
    "\n",
    "    probability=[dist.pdf(i) for i in range(startrange,endrange)]\n",
    "    PDF=sum(probability)\n",
    "    print(\"The area between {} & {} is {}\".format(startrange,endrange,PDF))\n",
    "    return PDF"
   ]
  },
  {
   "cell_type": "code",
   "execution_count": 24,
   "id": "99c18d87-0407-4f16-9275-3ea64c7a9531",
   "metadata": {},
   "outputs": [
    {
     "name": "stderr",
     "output_type": "stream",
     "text": [
      "C:\\Users\\DELL\\AppData\\Local\\Temp\\ipykernel_15776\\3358576947.py:5: UserWarning: \n",
      "\n",
      "`distplot` is a deprecated function and will be removed in seaborn v0.14.0.\n",
      "\n",
      "Please adapt your code to use either `displot` (a figure-level function with\n",
      "similar flexibility) or `histplot` (an axes-level function for histograms).\n",
      "\n",
      "For a guide to updating your code to use the new functions, please see\n",
      "https://gist.github.com/mwaskom/de44147ed2974457ad6372750bbe5751\n",
      "\n",
      "  sns.distplot(dataset,kde=True,kde_kws={'color':'Red'},color='Green')\n"
     ]
    },
    {
     "name": "stdout",
     "output_type": "stream",
     "text": [
      "Mean:  198702.32558139536 Standard Deviation:  154780.92671560106\n",
      "The area between 700000 & 900000 is 0.0005973310593974901\n"
     ]
    },
    {
     "data": {
      "text/plain": [
       "0.0005973310593974901"
      ]
     },
     "execution_count": 24,
     "metadata": {},
     "output_type": "execute_result"
    },
    {
     "data": {
      "image/png": "[encoded data removed]",
      "text/plain": [
       "<Figure size 640x480 with 1 Axes>"
      ]
     },
     "metadata": {},
     "output_type": "display_data"
    }
   ],
   "source": [
    "probabilitydensityfunc(dataset['salary'],700000,900000)"
   ]
  },
  {
   "cell_type": "markdown",
   "id": "01ab24b5-8050-4f7f-bda9-1944ff37475f",
   "metadata": {},
   "source": [
    "11. Hypothesis Testing:"
   ]
  },
  {
   "cell_type": "code",
   "execution_count": 25,
   "id": "d65d8766-aa8a-43d8-bcbc-be59584b329e",
   "metadata": {},
   "outputs": [],
   "source": [
    "#Statement: Testing the similarity between the degree_t(Sci&Tech) with respect to etest_p and mba_p at significance level of 5%."
   ]
  },
  {
   "cell_type": "code",
   "execution_count": 26,
   "id": "a992850b-eda0-40cf-9492-65a0f1469ca9",
   "metadata": {},
   "outputs": [],
   "source": [
    "#Null hypothesis: There is no similarity between the degree_t(Sci&Tech) with respect to etest_p and mba_p."
   ]
  },
  {
   "cell_type": "code",
   "execution_count": 27,
   "id": "a8a7d83e-589f-4c76-a379-eb445b9aae9a",
   "metadata": {},
   "outputs": [],
   "source": [
    "#Alternate hypothesis: There is similarity between the degree_t(Sci&Tech) with respect to etest_p and mba_p."
   ]
  },
  {
   "cell_type": "code",
   "execution_count": 28,
   "id": "1dad73f1-2a94-4e3f-97c2-b5a73402b826",
   "metadata": {},
   "outputs": [
    {
     "data": {
      "text/plain": [
       "TtestResult(statistic=5.0049844583693615, pvalue=5.517920600505392e-06, df=58)"
      ]
     },
     "execution_count": 28,
     "metadata": {},
     "output_type": "execute_result"
    }
   ],
   "source": [
    "from scipy.stats import ttest_rel\n",
    "etest=dataset[dataset['degree_t']=='Sci&Tech']['etest_p']\n",
    "mba=dataset[dataset['degree_t']=='Sci&Tech']['mba_p']\n",
    "ttest_rel(etest,mba)"
   ]
  },
  {
   "cell_type": "code",
   "execution_count": 29,
   "id": "8b5e6e26-2621-4df0-997c-c5403e480f87",
   "metadata": {},
   "outputs": [],
   "source": [
    "#Conclusion: At 5% significant level, the pvalue<5%, hence alternate hypothesis is accepted. \n",
    "#So there is similarity between the degree_t(Sci&Tech) with respect to etest_p and mba_p."
   ]
  },
  {
   "cell_type": "markdown",
   "id": "f08ba010-f43a-48d6-a8b6-d4114f5f1b3b",
   "metadata": {},
   "source": [
    "13. Histogram"
   ]
  },
  {
   "cell_type": "code",
   "execution_count": 30,
   "id": "ba1da3c7-e84b-4da6-b362-903e191faeb2",
   "metadata": {},
   "outputs": [
    {
     "name": "stderr",
     "output_type": "stream",
     "text": [
      "C:\\Users\\DELL\\AppData\\Local\\Temp\\ipykernel_15776\\293502571.py:1: UserWarning: \n",
      "\n",
      "`distplot` is a deprecated function and will be removed in seaborn v0.14.0.\n",
      "\n",
      "Please adapt your code to use either `displot` (a figure-level function with\n",
      "similar flexibility) or `histplot` (an axes-level function for histograms).\n",
      "\n",
      "For a guide to updating your code to use the new functions, please see\n",
      "https://gist.github.com/mwaskom/de44147ed2974457ad6372750bbe5751\n",
      "\n",
      "  sns.distplot(dataset['mba_p'],kde=True,kde_kws={'color':'Red'})\n"
     ]
    },
    {
     "data": {
      "text/plain": [
       "<Axes: xlabel='mba_p', ylabel='Density'>"
      ]
     },
     "execution_count": 30,
     "metadata": {},
     "output_type": "execute_result"
    },
    {
     "data": {
      "image/png": "[encoded data removed]",
      "text/plain": [
       "<Figure size 640x480 with 1 Axes>"
      ]
     },
     "metadata": {},
     "output_type": "display_data"
    }
   ],
   "source": [
    "sns.distplot(dataset['mba_p'],kde=True,kde_kws={'color':'Red'})"
   ]
  }
 ],
 "metadata": {
  "kernelspec": {
   "display_name": "Python 3 (ipykernel)",
   "language": "python",
   "name": "python3"
  },
  "language_info": {
   "codemirror_mode": {
    "name": "ipython",
    "version": 3
   },
   "file_extension": ".py",
   "mimetype": "text/x-python",
   "name": "python",
   "nbconvert_exporter": "python",
   "pygments_lexer": "ipython3",
   "version": "3.12.7"
  }
 },
 "nbformat": 4,
 "nbformat_minor": 5
}
